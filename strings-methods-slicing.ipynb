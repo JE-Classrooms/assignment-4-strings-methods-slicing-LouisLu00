{
 "cells": [
  {
   "cell_type": "markdown",
   "metadata": {},
   "source": [
    "# Assignment 4"
   ]
  },
  {
   "cell_type": "markdown",
   "metadata": {},
   "source": [
    "1. Given two strings, s1 and s2, write a program to return a new string made of s1 and s2’s first, middle, and last characters all in capital letters."
   ]
  },
  {
   "cell_type": "code",
   "execution_count": 1,
   "metadata": {},
   "outputs": [
    {
     "data": {
      "text/plain": [
       "'LAUESA'"
      ]
     },
     "execution_count": 1,
     "metadata": {},
     "output_type": "execute_result"
    }
   ],
   "source": [
    "s1=\"Louis\"\n",
    "s2=\"Angela\"\n",
    "sizea = len(s1)\n",
    "sizeb = len(s2)\n",
    "result = s1[0]\n",
    "result=result +s2[0]+s1[sizea//2]+s2[sizeb//2]+s1[sizea-1]+s2[sizeb-1]\n",
    "result=result.upper()\n",
    "result"
   ]
  },
  {
   "cell_type": "markdown",
   "metadata": {},
   "source": [
    "2. Calculate the sum and the averages of the numbers in the following string while ignoring all other characters:\n",
    "\n",
    "    ```aa4a649##aq#2```"
   ]
  },
  {
   "cell_type": "code",
   "execution_count": 26,
   "metadata": {},
   "outputs": [
    {
     "name": "stdout",
     "output_type": "stream",
     "text": [
      "[4, 6, 4, 9, 2]\n",
      "25\n",
      "5.0\n"
     ]
    }
   ],
   "source": [
    "s1 = \"aa4a649##aq#2\"\n",
    "a = []\n",
    "for i in s1:\n",
    "    if(i.isdigit()):\n",
    "        a.append(int(i))\n",
    "print(a)\n",
    "\n",
    "result=0\n",
    "for number in a:\n",
    "    result+=number\n",
    "    \n",
    "print(result)\n",
    "print(result/len(a))"
   ]
  },
  {
   "cell_type": "markdown",
   "metadata": {},
   "source": [
    "3. Extract the last name Culberson from the following legislative action:\n",
    "\n",
    "    ```WORDS TAKEN DOWN - During the course of debate, exception was taken to certain words used and a demand was made to have words taken down. Mr. Culberson asked unanimous consent to withdraw the words. Without objection the words were withdrawn. The House resumed debate on S. 22 .```\n",
    "\n",
    "    **Hint:** use the method [split](https://www.w3schools.com/python/ref_string_split.asp)\n",
    "   "
   ]
  },
  {
   "cell_type": "code",
   "execution_count": 38,
   "metadata": {},
   "outputs": [
    {
     "name": "stdout",
     "output_type": "stream",
     "text": [
      "['During', 'Mr.', 'Culberson', 'Without', 'The', 'House', 'S.']\n"
     ]
    },
    {
     "data": {
      "text/plain": [
       "'Culberson'"
      ]
     },
     "execution_count": 38,
     "metadata": {},
     "output_type": "execute_result"
    }
   ],
   "source": [
    "s1= \"During the course of debate, exception was taken to certain words used and a demand was made to have words taken down. Mr. Culberson asked unanimous consent to withdraw the words. Without objection the words were withdrawn. The House resumed debate on S. 22 .\"\n",
    "s1= s1.split()\n",
    "c=[]\n",
    "for i in s1:\n",
    "    if(i.istitle()):\n",
    "        c.append(i)\n",
    "print(c)\n",
    "c[c.index(\"Culberson\")]"
   ]
  },
  {
   "cell_type": "markdown",
   "metadata": {},
   "source": [
    "4. Extract the two integers from the following sentence and transform them intro ```int``` type\n",
    "\n",
    "    ```Passed Senate with amendments by Yea-Nay Vote. 73 - 21. Record Vote Number: 3 . (text: CR S430-557 )```"
   ]
  },
  {
   "cell_type": "code",
   "execution_count": 3,
   "metadata": {},
   "outputs": [
    {
     "name": "stdout",
     "output_type": "stream",
     "text": [
      "['Passed', 'Senate', 'with', 'amendments', 'by', 'Yea-Nay', 'Vote', '73', '-', '21', 'Record', 'Vote', 'Number:', '3', '(text:', 'CR', 'S430-557', ')']\n",
      "[73, 21]\n"
     ]
    }
   ],
   "source": [
    "s1=\"Passed Senate with amendments by Yea-Nay Vote. 73 - 21. Record Vote Number: 3 . (text: CR S430-557 )\"\n",
    "s1=s1.replace(\".\",\"\")\n",
    "s1 = s1.split()\n",
    "b=[]\n",
    "print(s1)\n",
    "for i in s1:\n",
    "     if(i.isdigit()):\n",
    "        b.append(int(i))\n",
    "b=b[0:2:1]\n",
    "print(b)"
   ]
  },
  {
   "cell_type": "markdown",
   "metadata": {},
   "source": []
  }
 ],
 "metadata": {
  "kernelspec": {
   "display_name": "conda_amazonei_mxnet_p36",
   "language": "python",
   "name": "conda_amazonei_mxnet_p36"
  },
  "language_info": {
   "codemirror_mode": {
    "name": "ipython",
    "version": 3
   },
   "file_extension": ".py",
   "mimetype": "text/x-python",
   "name": "python",
   "nbconvert_exporter": "python",
   "pygments_lexer": "ipython3",
   "version": "3.6.13"
  },
  "vscode": {
   "interpreter": {
    "hash": "11838f79d2aaadbfa3a2adfaf35bacdebdb4e8d9b63957ddf298964812544a76"
   }
  }
 },
 "nbformat": 4,
 "nbformat_minor": 4
}
